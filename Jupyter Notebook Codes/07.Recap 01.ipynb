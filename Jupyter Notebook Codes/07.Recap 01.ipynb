{
 "cells": [
  {
   "cell_type": "code",
   "execution_count": null,
   "metadata": {},
   "outputs": [],
   "source": [
    "#Python Indentation\n",
    "\n",
    "\"\"\"\n",
    "Indentation refers to the spaces at the beginning of a code line.\n",
    "Where in other programming languages the indentation in code is for readability only,\n",
    "the indentation in Python is very important.\n",
    "\n",
    "Python uses indentation to indicate a block of code.\n",
    "\"\"\"\n",
    "if 5 > 2:\n",
    "  print(\"Five is greater than two!\")"
   ]
  },
  {
   "cell_type": "code",
   "execution_count": null,
   "metadata": {},
   "outputs": [],
   "source": [
    "#Python will give you an error if you skip the indentation:\n",
    "\n",
    "if 5 > 2:\n",
    "print(\"Five is greater than two!\")"
   ]
  },
  {
   "cell_type": "code",
   "execution_count": null,
   "metadata": {},
   "outputs": [],
   "source": [
    "#The number of spaces is up to you as a programmer, but it has to be at least one.\n",
    "\n",
    "if 5 > 2:\n",
    " print(\"Five is greater than two!\") \n",
    "if 5 > 2:\n",
    "        print(\"Five is greater than two!\") "
   ]
  },
  {
   "cell_type": "code",
   "execution_count": null,
   "metadata": {},
   "outputs": [],
   "source": [
    "#You have to use the same number of spaces in the same block of code, otherwise Python will give you an error:\n",
    "\n",
    "if 5 > 2:\n",
    " print(\"Five is greater than two!\")\n",
    "        print(\"Five is greater than two!\")"
   ]
  },
  {
   "cell_type": "code",
   "execution_count": null,
   "metadata": {},
   "outputs": [],
   "source": [
    "#Python Variables\n",
    "\n",
    "#In Python variables are created the moment you assign a value to it:\n",
    "\n",
    "x = 5\n",
    "y = \"Hello, World!\"\n",
    "\n",
    "#Python has no command for declaring a variable."
   ]
  },
  {
   "cell_type": "code",
   "execution_count": null,
   "metadata": {},
   "outputs": [],
   "source": [
    "#Comments\n",
    "\"\"\"\n",
    "Python has commenting capability for the purpose of in-code documentation.\n",
    "Comments start with a #, and Python will render the rest of the line as a comment:\n",
    "\"\"\"\n",
    "\n",
    "#This is a comment.\n",
    "print(\"Hello, World!\")\n",
    "\n",
    "\n",
    "\"\"\"\n",
    "Comments can be used to explain Python code.\n",
    "\n",
    "Comments can be used to make the code more readable.\n",
    "\n",
    "Comments can be used to prevent execution when testing code.\n",
    "\"\"\""
   ]
  },
  {
   "cell_type": "code",
   "execution_count": null,
   "metadata": {},
   "outputs": [],
   "source": [
    "#Comments can be placed at the end of a line, and Python will ignore the rest of the line:\n",
    "\n",
    "print(\"Hello, World!\") #This is a comment"
   ]
  },
  {
   "cell_type": "code",
   "execution_count": null,
   "metadata": {},
   "outputs": [],
   "source": [
    "#Comments does not have to be text to explain the code, it can also be used to prevent Python from executing code:\n",
    "\n",
    "#print(\"Hello, World!\")\n",
    "print(\"Cheers, Mate!\")"
   ]
  },
  {
   "cell_type": "code",
   "execution_count": null,
   "metadata": {},
   "outputs": [],
   "source": [
    "#Multi Line Comments\n",
    "\n",
    "#Python does not really have a syntax for multi line comments.\n",
    "\n",
    "\"\"\"\n",
    "Or, not quite as intended, you can use a multiline string.\n",
    "\n",
    "Since Python will ignore string literals that are not assigned to a variable,\n",
    "you can add a multiline string (triple quotes) in your code, and place your comment inside it:\n",
    "\"\"\"\n",
    "\n",
    "#Did you notice the color of the two comment styles?\n",
    "\n",
    "\n",
    "\"\"\"\n",
    "This is a comment\n",
    "written in\n",
    "more than just one line\n",
    "\"\"\"\n",
    "print(\"Hello, World!\")"
   ]
  },
  {
   "cell_type": "code",
   "execution_count": null,
   "metadata": {},
   "outputs": [],
   "source": [
    "#Let's check\n",
    "\n",
    "comment1 = \"\"\"\n",
    "This is a comment\n",
    "written in\n",
    "more than just one line\n",
    "\"\"\"\n",
    "\n",
    "print(comment1)\n",
    "\n",
    "comment2 = \"\n",
    "This is a comment\n",
    "written in\n",
    "more than just one line\n",
    "\"\n",
    "print(vomment2)\n",
    "\n",
    "\"\"\"\n",
    "As long as the string is not assigned to a variable, Python will read the code,\n",
    "but then ignore it, and you have made a multiline comment.\n",
    "\"\"\""
   ]
  },
  {
   "cell_type": "code",
   "execution_count": null,
   "metadata": {},
   "outputs": [],
   "source": [
    "\"\"\"\n",
    "Variables do not need to be declared with any particular type\n",
    "and can even change type after they have been set.\n",
    "\"\"\"\n",
    "\n",
    "x = 4 # x is of type int\n",
    "print(type(x))\n",
    "x = \"Sally\" # x is now of type str\n",
    "print(type(x))\n",
    "print(x)"
   ]
  },
  {
   "cell_type": "code",
   "execution_count": null,
   "metadata": {},
   "outputs": [],
   "source": [
    "#String variables can be declared either by using single or double quotes:\n",
    "\n",
    "x = \"John\"\n",
    "# is the same as\n",
    "y = 'John'\n",
    "\n",
    "#Let's check\n",
    "print(x==y)"
   ]
  },
  {
   "cell_type": "code",
   "execution_count": null,
   "metadata": {},
   "outputs": [],
   "source": [
    "\"\"\"\n",
    "Variable Names\n",
    "A variable can have a short name (like x and y) or\n",
    "a more descriptive name (age, carname, total_volume).\n",
    "\n",
    "Rules for Python variables:\n",
    "A variable name must start with a letter or the underscore character\n",
    "A variable name cannot start with a number\n",
    "A variable name can only contain alpha-numeric characters and underscores (A-z, 0-9, and _ )\n",
    "Variable names are case-sensitive (age, Age and AGE are three different variables)\n",
    "\"\"\"\n",
    "\n",
    "#Assign Value to Multiple Variables\n",
    "#Python allows you to assign values to multiple variables in one line:\n",
    "\n",
    "x, y, z = \"Orange\", \"Banana\", \"Cherry\"\n",
    "print(x)\n",
    "print(y)\n",
    "print(z)"
   ]
  },
  {
   "cell_type": "code",
   "execution_count": null,
   "metadata": {},
   "outputs": [],
   "source": [
    "#And you can assign the same value to multiple variables in one line:\n",
    "\n",
    "x = y = z = \"Orange\"\n",
    "print(x)\n",
    "print(y)\n",
    "print(z)"
   ]
  },
  {
   "cell_type": "code",
   "execution_count": null,
   "metadata": {},
   "outputs": [],
   "source": [
    "#Output the variables\n",
    "\n",
    "#To combine both text and a variable, Python uses the + character:\n",
    "\n",
    "x = \"awesome\"\n",
    "print(\"Python is \" + x)"
   ]
  },
  {
   "cell_type": "code",
   "execution_count": null,
   "metadata": {},
   "outputs": [],
   "source": [
    "#You can also use the + character to add a variable to another variable:\n",
    "\n",
    "x = \"Python is \"\n",
    "y = \"awesome\"\n",
    "z =  x + y\n",
    "print(z)"
   ]
  },
  {
   "cell_type": "code",
   "execution_count": null,
   "metadata": {},
   "outputs": [],
   "source": [
    "#For numbers, the + character works as a mathematical operator:\n",
    "\n",
    "x = 5\n",
    "y = 10\n",
    "print(x + y)"
   ]
  },
  {
   "cell_type": "code",
   "execution_count": null,
   "metadata": {},
   "outputs": [],
   "source": [
    "#If you try to combine a string and a number, Python will give you an error:\n",
    "\n",
    "x = 5\n",
    "y = \"John\"\n",
    "print(x + y)"
   ]
  },
  {
   "cell_type": "code",
   "execution_count": null,
   "metadata": {},
   "outputs": [],
   "source": [
    "\"\"\"\n",
    "Global Variables\n",
    "\n",
    "Variables that are created outside of a function (as in all of the examples above) are known as global variables.\n",
    "Global variables can be used by everyone, both inside of functions and outside.\n",
    "\"\"\"\n",
    "\n",
    "#Create a variable outside of a function, and use it inside the function\n",
    "\n",
    "x = \"awesome\"\n",
    "\n",
    "def myfunc():\n",
    "  print(\"Python is \" + x)\n",
    "\n",
    "myfunc()"
   ]
  },
  {
   "cell_type": "code",
   "execution_count": null,
   "metadata": {},
   "outputs": [],
   "source": [
    "\"\"\"\n",
    "If you create a variable with the same name inside a function,\n",
    "this variable will be local, and can only be used inside the function.\n",
    "The global variable with the same name will remain as it was, global and with the original value.\n",
    "\"\"\"\n",
    "\n",
    "#Create a variable inside a function, with the same name as the global variable\n",
    "\n",
    "x = \"awesome\"\n",
    "\n",
    "def myfunc():\n",
    "  x = \"fantastic\"\n",
    "  print(\"Python is \" + x)\n",
    "\n",
    "myfunc()\n",
    "\n",
    "print(\"Python is \" + x)"
   ]
  },
  {
   "cell_type": "code",
   "execution_count": null,
   "metadata": {},
   "outputs": [],
   "source": [
    "\"\"\"\n",
    "The global Keyword\n",
    "Normally, when you create a variable inside a function,\n",
    "that variable is local, and can only be used inside that function.\n",
    "\n",
    "To create a global variable inside a function, you can use the global keyword.\n",
    "\"\"\"\n",
    "\n",
    "#If you use the global keyword, the variable belongs to the global scope:\n",
    "\n",
    "def myfunc():\n",
    "  global x\n",
    "  x = \"fantastic\"\n",
    "\n",
    "myfunc()\n",
    "\n",
    "print(\"Python is \" + x)"
   ]
  },
  {
   "cell_type": "code",
   "execution_count": null,
   "metadata": {},
   "outputs": [],
   "source": [
    "#Also, use the global keyword if you want to change a global variable inside a function.\n",
    "\n",
    "x = \"awesome\"\n",
    "\n",
    "def myfunc():\n",
    "  global x\n",
    "  x = \"fantastic\"\n",
    "\n",
    "myfunc()\n",
    "\n",
    "print(\"Python is \" + x)"
   ]
  },
  {
   "cell_type": "code",
   "execution_count": null,
   "metadata": {},
   "outputs": [],
   "source": [
    "\"\"\"\n",
    "Built-in Data Types\n",
    "\n",
    "In programming, data type is an important concept.\n",
    "\n",
    "Variables can store data of different types, and different types can do different things.\n",
    "\n",
    "Python has the following data types built-in by default, in these categories:\n",
    "\n",
    "Text Type: str\n",
    "Numeric Types: int, float, complex\n",
    "Sequence Types: list, tuple, range\n",
    "Mapping Type: dict\n",
    "Set Types: set, frozenset\n",
    "Boolean Type: bool\n",
    "Binary Types: bytes, bytearray, memoryview\n",
    "\"\"\"\n",
    "\n",
    "x = range(6)\n",
    "print(x)\n",
    "\n",
    "#creating a list\n",
    "\n",
    "x = list(range(6))\n",
    "print(x)\n",
    "\n",
    "#Creating a tuple\n",
    "x = tuple(range(6))\n",
    "print(x)\n",
    "\n",
    "#Creating a set\n",
    "x = set(range(6))\n",
    "print(x)\n",
    "\n",
    "#Creating a dictionary\n",
    "x = dict(range(6))\n",
    "print(x)\n"
   ]
  },
  {
   "cell_type": "code",
   "execution_count": null,
   "metadata": {},
   "outputs": [],
   "source": [
    "#Setting the data type\n",
    "\n",
    "a = str(\"Hello World\") #str\n",
    "b = int(20) #int\n",
    "c = float(20.5) #float\n",
    "d = complex(1j) #complex\n",
    "e = list((\"apple\", \"banana\", \"cherry\")) #list\n",
    "f = tuple((\"apple\", \"banana\", \"cherry\")) #tuple\n",
    "g = range(6) #range\n",
    "h = dict(name=\"John\", age=36) #dict\n",
    "i = set((\"apple\", \"banana\", \"cherry\")) #set\n",
    "j = bool(5) #bool\n",
    "\n",
    "print(j)"
   ]
  },
  {
   "cell_type": "code",
   "execution_count": null,
   "metadata": {},
   "outputs": [],
   "source": [
    "#Numerical Floats\n",
    "\n",
    "x = 35e3\n",
    "y = 12E4\n",
    "z = -87.7e100\n",
    "\n",
    "print(type(x))\n",
    "print(type(y))\n",
    "print(type(z))"
   ]
  },
  {
   "cell_type": "code",
   "execution_count": null,
   "metadata": {},
   "outputs": [],
   "source": [
    "#Numeric Type conversion\n",
    "\n",
    "#convert from int to float:\n",
    "x = 1 # int\n",
    "a = float(x)\n",
    "print(a, type(a))\n",
    "\n",
    "\n",
    "#convert from float to int:\n",
    "y = 2.8 # float\n",
    "b = int(y)\n",
    "print(b, type(b))"
   ]
  },
  {
   "cell_type": "code",
   "execution_count": null,
   "metadata": {},
   "outputs": [],
   "source": [
    "#Random Number\n",
    "\n",
    "#Import the random module, and display a random number between 1 and 9:\n",
    "\n",
    "import random\n",
    "print(random.randrange(1,6))"
   ]
  },
  {
   "cell_type": "code",
   "execution_count": null,
   "metadata": {},
   "outputs": [],
   "source": [
    "\"\"\"\n",
    "Specify a Variable Type\n",
    "\n",
    "There may be times when you want to specify a type on to a variable.\n",
    "This can be done with casting.\n",
    "Python is an object-orientated language,\n",
    "and as such it uses classes to define data types, including its primitive types.\n",
    "\n",
    "Casting in python is therefore done using constructor functions:\n",
    "\n",
    "int() - constructs an integer number from an integer literal,\n",
    "        a float literal (by rounding down to the previous whole number),\n",
    "        or a string literal (providing the string represents a whole number)\n",
    "        \n",
    "float() - constructs a float number from an integer literal,\n",
    "        a float literal \n",
    "        or a string literal (providing the string represents a float or an integer)\n",
    "        \n",
    "str() - constructs a string from a wide variety of data types,\n",
    "        including strings,\n",
    "        integer literals and float literals\n",
    "\"\"\"\n",
    "\n",
    "#Integers\n",
    "\n",
    "x = int(1)   # x will be 1\n",
    "y = int(2.8) # y will be 2\n",
    "z = int(\"3\") # z will be 3\n",
    "\n",
    "print(\"\", x,\":\",type(x),\"\\n\", y,\":\",type(y),\"\\n\", z, \":\",type(z))"
   ]
  },
  {
   "cell_type": "code",
   "execution_count": null,
   "metadata": {},
   "outputs": [],
   "source": [
    "#floats\n",
    "\n",
    "x = float(1)     # x will be 1.0\n",
    "y = float(2.8)   # y will be 2.8\n",
    "z = float(\"3\")   # z will be 3.0\n",
    "w = float(\"4.2\") # w will be 4.2\n",
    "\n",
    "print(w,type(w))"
   ]
  },
  {
   "cell_type": "code",
   "execution_count": null,
   "metadata": {},
   "outputs": [],
   "source": [
    "#strings\n",
    "\n",
    "x = str(\"s1\") # x will be 's1'\n",
    "y = str(2)    # y will be '2'\n",
    "z = str(3.0)  # z will be '3.0'\n",
    "\n",
    "print(z, type(z))\n",
    "print(x, type(x))"
   ]
  }
 ],
 "metadata": {
  "kernelspec": {
   "display_name": "Python 3",
   "language": "python",
   "name": "python3"
  },
  "language_info": {
   "codemirror_mode": {
    "name": "ipython",
    "version": 3
   },
   "file_extension": ".py",
   "mimetype": "text/x-python",
   "name": "python",
   "nbconvert_exporter": "python",
   "pygments_lexer": "ipython3",
   "version": "3.6.5"
  }
 },
 "nbformat": 4,
 "nbformat_minor": 2
}
