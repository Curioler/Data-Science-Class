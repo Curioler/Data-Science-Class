{
 "cells": [
  {
   "cell_type": "code",
   "execution_count": 13,
   "metadata": {},
   "outputs": [
    {
     "name": "stdout",
     "output_type": "stream",
     "text": [
      "Enter your name: bhavin\n",
      "Hello bhavin\n"
     ]
    }
   ],
   "source": [
    "\"\"\"\n",
    "The four steps to defining a function in Python are the following:\n",
    "\n",
    "Use the keyword def to declare the function and follow this up with the function name.\n",
    "Add parameters to the function: they should be within the parentheses of the function.\n",
    "End your line with a colon.\n",
    "Add statements that the functions should execute.\n",
    "End your function with a return statement if the function should output something.\n",
    "Without the return statement, your function will return an object None.\n",
    "\"\"\"\n",
    "\n",
    "def hello(): #function without any parameter\n",
    "  name = str(input(\"Enter your name: \")) #always converting it to a string, so that there is no error in printing\n",
    "  if name:\n",
    "    print (\"Hello \" + name)\n",
    "  else:\n",
    "    print(\"Hello World\") \n",
    "  \n",
    "hello()"
   ]
  },
  {
   "cell_type": "code",
   "execution_count": 15,
   "metadata": {},
   "outputs": [
    {
     "name": "stdout",
     "output_type": "stream",
     "text": [
      "[6, 3, 7, 1, 2, 9, 2, 6, 10, 1]\n"
     ]
    }
   ],
   "source": [
    "#How to generate a list of random numbers\n",
    "\n",
    "import random\n",
    "random.seed(7)\n",
    "\n",
    "#identify the things that change\n",
    "\n",
    "number_list = [] \n",
    "n = 10\n",
    "\n",
    "for x in range(n):\n",
    "    a = random.randrange(1,11)\n",
    "    number_list.append(a)\n",
    "print(number_list)\n",
    "\n",
    "#see that you want to change n, 1,11"
   ]
  },
  {
   "cell_type": "code",
   "execution_count": 16,
   "metadata": {},
   "outputs": [],
   "source": [
    "#Defining a function to generate a list of random numbers\n",
    "\n",
    "import random\n",
    "\n",
    "def list_generator(start=1,end=11,iteration=25): #see the default value  \n",
    "    random.seed(7)\n",
    "    number_list = []\n",
    "\n",
    "    for x in range(iteration):\n",
    "        a = random.randrange(start,end)\n",
    "        number_list.append(a)\n",
    "    return number_list"
   ]
  },
  {
   "cell_type": "code",
   "execution_count": 62,
   "metadata": {},
   "outputs": [
    {
     "data": {
      "text/plain": [
       "1.9"
      ]
     },
     "execution_count": 62,
     "metadata": {},
     "output_type": "execute_result"
    }
   ],
   "source": [
    "#Defining a function to calculate mean\n",
    "\n",
    "def my_mean(some_list):\n",
    "    \n",
    "    total_sum = sum(some_list)\n",
    "    total_number = len(some_list)\n",
    "    \n",
    "    mean = total_sum/total_number\n",
    "    \n",
    "    return mean\n",
    "\n",
    "my_list = list_generator(1,5,10)   \n",
    "my_mean(my_list)"
   ]
  },
  {
   "cell_type": "code",
   "execution_count": 50,
   "metadata": {},
   "outputs": [
    {
     "data": {
      "text/plain": [
       "1.5"
      ]
     },
     "execution_count": 50,
     "metadata": {},
     "output_type": "execute_result"
    }
   ],
   "source": [
    "#Defining a function to calculate median\n",
    "\n",
    "def my_median(some_list):\n",
    "    \n",
    "    some_list.sort()\n",
    "    n=len(some_list)\n",
    "    \n",
    "    if n%2==0: #To check if n is even or odd\n",
    "        \n",
    "        position1 = int(n/2)\n",
    "        position2 = int(n/2)-1\n",
    "        \n",
    "        m1 = some_list[position1]\n",
    "        m2 = some_list[position2]\n",
    "        \n",
    "        median = (m1+m2)/2\n",
    "    else:\n",
    "        position = int(n/2)\n",
    "        median = some_list[position]        \n",
    "    return median\n",
    "\n",
    "my_list = list_generator(1,5,10)\n",
    "my_median(my_list)"
   ]
  },
  {
   "cell_type": "code",
   "execution_count": 54,
   "metadata": {},
   "outputs": [
    {
     "data": {
      "text/plain": [
       "({2, 10}, 16)"
      ]
     },
     "execution_count": 54,
     "metadata": {},
     "output_type": "execute_result"
    }
   ],
   "source": [
    "#Defining a function to calculate mode\n",
    "\n",
    "def my_mode(some_list):\n",
    "    \n",
    "    my_counts = []\n",
    "    \n",
    "    for i in some_list:\n",
    "        a = some_list.count(i)\n",
    "        my_counts.append(a)\n",
    "        \n",
    "    my_max = max(my_counts)\n",
    "    \n",
    "    positions=[]\n",
    "    \n",
    "    for j, cnt in enumerate(my_counts):\n",
    "        if cnt == my_max:\n",
    "            positions.append(j)\n",
    "    \n",
    "    modes = set({})\n",
    "    \n",
    "    for member in positions:\n",
    "        m = some_list[member]\n",
    "        modes.add(m)\n",
    "    \n",
    "    return modes, my_max\n",
    "\n",
    "my_list = list_generator(1,11,100)\n",
    "my_mode(my_list)"
   ]
  },
  {
   "cell_type": "code",
   "execution_count": 59,
   "metadata": {},
   "outputs": [
    {
     "data": {
      "text/plain": [
       "4.599960584126557"
      ]
     },
     "execution_count": 59,
     "metadata": {},
     "output_type": "execute_result"
    }
   ],
   "source": [
    "#Defining a function to calculate geometric mean\n",
    "def my_gm(some_list):\n",
    "    \n",
    "    total_multiplication = 1\n",
    "    for number in some_list:\n",
    "        total_multiplication *= number\n",
    "    \n",
    "    n = len(some_list)\n",
    "    gm = total_multiplication**(1/n)\n",
    "    \n",
    "    return gm\n",
    "    \n",
    "my_list = list_generator(1,11,100)\n",
    "my_gm(my_list)"
   ]
  },
  {
   "cell_type": "code",
   "execution_count": 64,
   "metadata": {},
   "outputs": [
    {
     "data": {
      "text/plain": [
       "0.03412045060658578"
      ]
     },
     "execution_count": 64,
     "metadata": {},
     "output_type": "execute_result"
    }
   ],
   "source": [
    "#Defining a function to calculate harmonic mean\n",
    "def my_hm(some_list):\n",
    "    total_reciprocals = 0\n",
    "    for number in some_list:\n",
    "        reciprocal = 1/number\n",
    "        total_reciprocals += reciprocal\n",
    "    hm = 1/total_reciprocals\n",
    "    return hm\n",
    "\n",
    "my_list = list_generator(1,11,100)\n",
    "my_hm(my_list)"
   ]
  }
 ],
 "metadata": {
  "kernelspec": {
   "display_name": "Python 3",
   "language": "python",
   "name": "python3"
  },
  "language_info": {
   "codemirror_mode": {
    "name": "ipython",
    "version": 3
   },
   "file_extension": ".py",
   "mimetype": "text/x-python",
   "name": "python",
   "nbconvert_exporter": "python",
   "pygments_lexer": "ipython3",
   "version": "3.7.4"
  }
 },
 "nbformat": 4,
 "nbformat_minor": 2
}
