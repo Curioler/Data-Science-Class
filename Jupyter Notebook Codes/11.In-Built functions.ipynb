{
 "cells": [
  {
   "cell_type": "code",
   "execution_count": null,
   "metadata": {},
   "outputs": [],
   "source": [
    "#See the list of built-in functions at https://docs.python.org/3.6/library/functions.html\n",
    "#Let's see some here\n",
    "\"\"\"\n",
    "abs() Returns absolute value of a number\n",
    "divmod() Returns quotient and remainder of integer division\n",
    "max() Returns the largest of the given arguments or items in an iterable\n",
    "min() Returns the smallest of the given arguments or items in an iterable\n",
    "pow() Raises a number to a power\n",
    "round() Rounds a floating-point value\n",
    "sum() Sums the items of an iterable\n",
    "\"\"\"\n",
    "abs(-10.09)\n",
    "\n",
    "divmod(10,3)\n",
    "\n",
    "pow(10,3)"
   ]
  },
  {
   "cell_type": "code",
   "execution_count": null,
   "metadata": {},
   "outputs": [],
   "source": [
    "\"\"\"\n",
    "all() Returns True if all elements of an iterable are true\n",
    "any() Returns True if any elements of an iterable are true\n",
    "enumerate() Returns a list of tuples containing indices and values from an iterable\n",
    "filter() Filters elements from an iterable\n",
    "iter() Returns an iterator object\n",
    "len() Returns the length of an object\n",
    "map() Applies a function to every item of an iterable\n",
    "next() Retrieves the next item from an iterator\n",
    "range() Generates a range of integer values\n",
    "reversed() Returns a reverse iterator\n",
    "slice() Returns a slice object\n",
    "sorted() Returns a sorted list from an iterable\n",
    "zip() Creates an iterator that aggregates elements from iterables\n",
    "\"\"\"\n",
    "x=list((\"a\",\"b\",\"c\"))\n",
    "dir(x)\n",
    "print(x.count(\"a\"))"
   ]
  },
  {
   "cell_type": "code",
   "execution_count": null,
   "metadata": {},
   "outputs": [],
   "source": [
    "\"\"\"\n",
    "The enumerate() function takes a collection (e.g. a tuple) and returns it as an enumerate object.\n",
    "The enumerate() function adds a counter as the key of the enumerate object.\n",
    "\"\"\"\n",
    "\n",
    "x = ('apple', 'banana', 'cherry')\n",
    "y = enumerate(x)\n",
    "\n",
    "print(y)"
   ]
  },
  {
   "cell_type": "code",
   "execution_count": null,
   "metadata": {},
   "outputs": [],
   "source": [
    "\"\"\"\n",
    "The eval() function evaluates the specified expression, \n",
    "if the expression is a legal Python statement, it will be executed.\n",
    "\n",
    "eval(expression, globals, locals)\n",
    "\"\"\"\n",
    "\n",
    "x = 'print(55)'\n",
    "eval(x)"
   ]
  },
  {
   "cell_type": "code",
   "execution_count": null,
   "metadata": {},
   "outputs": [],
   "source": [
    "\"\"\"\n",
    "The exec() function executes the specified Python code.\n",
    "The exec() function accepts large blocks of code, unlike the eval() function which only accepts a single expression\n",
    "\n",
    "exec(object, globals, locals)\n",
    "\"\"\"\n",
    "x = 'name = \"John\"\\nprint(name)'\n",
    "exec(x)"
   ]
  },
  {
   "cell_type": "code",
   "execution_count": null,
   "metadata": {},
   "outputs": [],
   "source": [
    "\"\"\"\n",
    "The filter() function returns an iterator \n",
    "where the items are filtered through a function to test if the item is accepted or not.\n",
    "\n",
    "filter(function, iterable)\n",
    "\"\"\"\n",
    "\n",
    "ages = [5, 12, 17, 18, 24, 32]\n",
    "\n",
    "def myFunc(x):\n",
    "  if x < 18:\n",
    "    return False\n",
    "  else:\n",
    "    return True\n",
    "\n",
    "adults = filter(myFunc, ages)\n",
    "\n",
    "for x in adults:\n",
    "  print(x)"
   ]
  },
  {
   "cell_type": "code",
   "execution_count": null,
   "metadata": {},
   "outputs": [],
   "source": [
    "#Executes the built-in help system\n",
    "help(exec)"
   ]
  },
  {
   "cell_type": "code",
   "execution_count": null,
   "metadata": {},
   "outputs": [],
   "source": [
    "#The id() function returns a unique id for the specified object.\n",
    "\n",
    "x = ('apple', 'banana', 'cherry')\n",
    "y = id(x)\n",
    "print(y)"
   ]
  },
  {
   "cell_type": "code",
   "execution_count": null,
   "metadata": {},
   "outputs": [],
   "source": [
    "#The input() function allows user input.\n",
    "\n",
    "print('Enter your name:')\n",
    "x = input()\n",
    "print('Hello, ' + x)"
   ]
  },
  {
   "cell_type": "code",
   "execution_count": null,
   "metadata": {},
   "outputs": [],
   "source": [
    "#The iter() function returns an iterator object.\n",
    "\n",
    "x = iter([\"apple\", \"banana\", \"cherry\"])\n",
    "\n",
    "print(next(x))\n",
    "print(next(x))\n",
    "print(next(x))"
   ]
  },
  {
   "cell_type": "code",
   "execution_count": null,
   "metadata": {},
   "outputs": [],
   "source": [
    "#The open() function opens a file, and returns it as a file object.\n",
    "\"\"\"\n",
    "open(file, mode)\n",
    "\n",
    "\"r\" - Read - Default value. Opens a file for reading, error if the file does not exist\n",
    "\n",
    "\"a\" - Append - Opens a file for appending, creates the file if it does not exist\n",
    "\n",
    "\"w\" - Write - Opens a file for writing, creates the file if it does not exist\n",
    "\n",
    "\"x\" - Create - Creates the specified file, returns an error if the file exist\n",
    "\n",
    "In addition you can specify if the file should be handled as binary or text mode\n",
    "\n",
    "\"t\" - Text - Default value. Text mode\n",
    "\n",
    "\"b\" - Binary - Binary mode (e.g. images)\n",
    "\"\"\"\n",
    "\n",
    "f = open(\"demofile.txt\", \"r\")\n",
    "print(f.read())"
   ]
  },
  {
   "cell_type": "code",
   "execution_count": null,
   "metadata": {},
   "outputs": [],
   "source": [
    "\"\"\"\n",
    "The round() function returns a floating point number \n",
    "that is a rounded version of the specified number, with the specified number of decimals.\n",
    "\n",
    "round(number, digits)\n",
    "\"\"\"\n",
    "x = round(5.76543)\n",
    "print(x)"
   ]
  },
  {
   "cell_type": "code",
   "execution_count": null,
   "metadata": {},
   "outputs": [],
   "source": [
    "\"\"\"\n",
    "The slice() function returns a slice object.\n",
    "A slice object is used to specify how to slice a sequence.\n",
    "You can specify where to start the slicing, and where to end.\n",
    "You can also specify the step, which allows you to e.g. slice only every other item.\n",
    "\n",
    "slice(start, end, step)\n",
    "\"\"\"\n",
    "\n",
    "#Only the two first items\n",
    "\n",
    "a = (\"a\", \"b\", \"c\", \"d\", \"e\", \"f\", \"g\", \"h\")\n",
    "x = slice(2)\n",
    "print(a[x])\n",
    "\n",
    "#range\n",
    "a = (\"a\", \"b\", \"c\", \"d\", \"e\", \"f\", \"g\", \"h\")\n",
    "x = slice(0, 8, 3)\n",
    "print(a[x])"
   ]
  },
  {
   "cell_type": "code",
   "execution_count": null,
   "metadata": {},
   "outputs": [],
   "source": [
    "a = (\"a\", \"b\", \"c\", \"d\", \"e\", \"f\", \"g\", \"h\")\n",
    "x = slice(3, 5)\n",
    "print(a[x])"
   ]
  },
  {
   "cell_type": "code",
   "execution_count": null,
   "metadata": {},
   "outputs": [],
   "source": [
    "\"\"\"\n",
    "The zip() function returns a zip object,\n",
    "which is an iterator of tuples where the first item in each passed iterator is paired together,\n",
    "and then the second item in each passed iterator are paired together etc.\n",
    "\n",
    "If the passed iterators have different lengths, \n",
    "the iterator with the least items decides the length of the new iterator.\n",
    "\n",
    "zip(iterator1, iterator2, iterator3 ...)\n",
    "\"\"\"\n",
    "\n",
    "a = (\"John\", \"Charles\", \"Mike\")\n",
    "b = (\"Jenny\", \"Christy\", \"Monica\")\n",
    "\n",
    "x = zip(a, b)\n",
    "\n",
    "for i,j in x:\n",
    "    print(i,\"->\",j)"
   ]
  }
 ],
 "metadata": {
  "kernelspec": {
   "display_name": "Python 3",
   "language": "python",
   "name": "python3"
  },
  "language_info": {
   "codemirror_mode": {
    "name": "ipython",
    "version": 3
   },
   "file_extension": ".py",
   "mimetype": "text/x-python",
   "name": "python",
   "nbconvert_exporter": "python",
   "pygments_lexer": "ipython3",
   "version": "3.6.5"
  }
 },
 "nbformat": 4,
 "nbformat_minor": 2
}
