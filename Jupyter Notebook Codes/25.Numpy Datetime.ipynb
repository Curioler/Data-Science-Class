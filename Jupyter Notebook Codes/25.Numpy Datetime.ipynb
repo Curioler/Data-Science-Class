{
 "cells": [
  {
   "cell_type": "code",
   "execution_count": null,
   "metadata": {},
   "outputs": [],
   "source": [
    "import numpy as np\n",
    "# Create a datetime64 object\n",
    "date64 = np.datetime64('2018-02-04 23:10:10')\n",
    "date64"
   ]
  },
  {
   "cell_type": "code",
   "execution_count": null,
   "metadata": {},
   "outputs": [],
   "source": [
    "# Drop the time part from the datetime64 object\n",
    "dt64 = np.datetime64(date64, 'D')\n",
    "dt64"
   ]
  },
  {
   "cell_type": "code",
   "execution_count": null,
   "metadata": {},
   "outputs": [],
   "source": [
    "# Create the timedeltas (individual units of time)\n",
    "tenminutes = np.timedelta64(10, 'm')  # 10 minutes\n",
    "tenseconds = np.timedelta64(10, 's')  # 10 seconds\n",
    "tennanoseconds = np.timedelta64(10, 'ns')  # 10 nanoseconds\n",
    "\n",
    "print('Add 10 days: ', dt64 + 10)\n",
    "print('Add 10 minutes: ', dt64 + tenminutes)\n",
    "print('Add 10 seconds: ', dt64 + tenseconds)\n",
    "print('Add 10 nanoseconds: ', dt64 + tennanoseconds)"
   ]
  },
  {
   "cell_type": "code",
   "execution_count": null,
   "metadata": {},
   "outputs": [],
   "source": [
    "# Convert np.datetime64 back to a string\n",
    "np.datetime_as_string(dt64)"
   ]
  },
  {
   "cell_type": "code",
   "execution_count": null,
   "metadata": {},
   "outputs": [],
   "source": [
    "print('Date: ', dt64)\n",
    "print(\"Is it a business day?: \", np.is_busday(dt64))  \n",
    "print(\"Add 2 business days, rolling forward to nearest biz day: \", np.busday_offset(dt64, 2, roll='forward'))  \n",
    "print(\"Add 2 business days, rolling backward to nearest biz day: \", np.busday_offset(dt64, 2, roll='backward'))  "
   ]
  },
  {
   "cell_type": "code",
   "execution_count": null,
   "metadata": {},
   "outputs": [],
   "source": [
    "# Create date sequence\n",
    "dates = np.arange(np.datetime64('2018-02-01'), np.datetime64('2018-02-10'))\n",
    "print(dates)\n",
    "\n",
    "# Check if its a business day\n",
    "np.is_busday(dates)"
   ]
  },
  {
   "cell_type": "code",
   "execution_count": null,
   "metadata": {},
   "outputs": [],
   "source": [
    "#1-D array with  value of datetime\n",
    "np.array(np.datetime64('2019-08-26'))"
   ]
  },
  {
   "cell_type": "code",
   "execution_count": null,
   "metadata": {},
   "outputs": [],
   "source": [
    "#Without specifying the date\n",
    "np.array(np.datetime64('2019-08', 'D'))"
   ]
  },
  {
   "cell_type": "code",
   "execution_count": null,
   "metadata": {},
   "outputs": [],
   "source": [
    "\"\"\"\n",
    "A date in Python is not a data type of its own, \n",
    "but we can import a module named datetime to work with dates as date objects.\n",
    "\"\"\"\n",
    "import datetime\n",
    "\n",
    "x = datetime.datetime.now()\n",
    "print(x) \n",
    "print(type(x))"
   ]
  },
  {
   "cell_type": "code",
   "execution_count": null,
   "metadata": {},
   "outputs": [],
   "source": [
    "x = datetime.datetime.now()\n",
    "\n",
    "print(x.year)\n",
    "print(x.strftime(\"%A\"))"
   ]
  },
  {
   "cell_type": "code",
   "execution_count": null,
   "metadata": {},
   "outputs": [],
   "source": [
    "#datetime.datetime(year, month, day[, hour[, minute[, second[, microsecond[, tzinfo]]]]])\n",
    "\n",
    "x = datetime.datetime(2020, 5, 17)\n",
    "\n",
    "print(x)"
   ]
  },
  {
   "cell_type": "code",
   "execution_count": null,
   "metadata": {},
   "outputs": [],
   "source": [
    "x = datetime.datetime(2018, 6, 1)\n",
    "\n",
    "print(x.strftime(\"%B\")) "
   ]
  },
  {
   "cell_type": "code",
   "execution_count": null,
   "metadata": {},
   "outputs": [],
   "source": [
    "\"\"\"\n",
    "%a - Weekday, short version - Wed\n",
    "%A - Weekday, full version - Wednesday\n",
    "%w - Weekday as a number 0-6, 0 is Sunday - 3\n",
    "%d - Day of month 01-31 - 31\n",
    "%b - Month name, short version - Dec\n",
    "%B - Month name, full version - December\n",
    "%m - Month as a number 01-12 - 12\n",
    "%y - Year, short version, without century - 18\n",
    "%Y - Year, full version - 2018\n",
    "%H - Hour 00-23 - 17\n",
    "%I - Hour 00-12 - 05\n",
    "%p - AM/PM - PM\n",
    "%M - Minute 00-59 - 41\n",
    "%S - Second 00-59 - 08\n",
    "%f - Microsecond 000000-999999 - 548513\n",
    "%z - UTC offset - +0100\n",
    "%Z - Timezone - CST\n",
    "%j - Day number of year 001-366 - 365\n",
    "%U - Week number of year, Sunday as the first day of week, 00-53 - 52\n",
    "%W - Week number of year, Monday as the first day of week, 00-53 - 52\n",
    "%c - Local version of date and time - Mon Dec 31 17:41:00 2018\n",
    "%x - Local version of date - 12/31/18\n",
    "%X - Local version of time - 17:41:00\n",
    "%% - A % character - %\n",
    "\"\"\"\n",
    "\n",
    "x = datetime.datetime.now()\n",
    "\n",
    "print(x.strftime(\"%x\"))"
   ]
  },
  {
   "cell_type": "code",
   "execution_count": null,
   "metadata": {},
   "outputs": [],
   "source": [
    "#Link to official documentation\n",
    "#https://docs.python.org/2/library/datetime.html\n",
    "\n",
    "#date class\n",
    "x=datetime.date.today()\n",
    "\n",
    "type(x)"
   ]
  },
  {
   "cell_type": "code",
   "execution_count": null,
   "metadata": {},
   "outputs": [],
   "source": [
    "#time class\n",
    "x=datetime.datetime.now().time()\n",
    "type(x)"
   ]
  },
  {
   "cell_type": "code",
   "execution_count": null,
   "metadata": {},
   "outputs": [],
   "source": [
    "#timedelta class\n",
    "#datetime.timedelta([days[, seconds[, microseconds[, milliseconds[, minutes[, hours[, weeks]]]]]]])\n",
    "#Only days, seconds and microseconds are stored internally, other arguments are converted to those units\n",
    "# Using current time \n",
    "ini_time_for_now = datetime.datetime.now() \n",
    "  \n",
    "# printing initial_date \n",
    "print (\"initial_date\", str(ini_time_for_now)) \n",
    "  \n",
    "# Calculating future dates \n",
    "# for two years \n",
    "future_date_after_2yrs = ini_time_for_now + datetime.timedelta(days = 730) \n",
    "  \n",
    "future_date_after_2days = ini_time_for_now + datetime.timedelta(days = 2) \n",
    "  \n",
    "# printing calculated future_dates \n",
    "print('future_date_after_2yrs:', str(future_date_after_2yrs)) \n",
    "print('future_date_after_2days:', str(future_date_after_2days))"
   ]
  },
  {
   "cell_type": "code",
   "execution_count": null,
   "metadata": {},
   "outputs": [],
   "source": [
    "from datetime import datetime, timedelta \n",
    "  \n",
    "  \n",
    "# Using current time \n",
    "ini_time_for_now = datetime.now() \n",
    "  \n",
    "# printing initial_date \n",
    "print (\"initial_date\", str(ini_time_for_now)) \n",
    "  \n",
    "# Calculating future dates \n",
    "# for two years \n",
    "future_date_after_2yrs = ini_time_for_now + timedelta(days = 730) \n",
    "  \n",
    "future_date_after_2days = ini_time_for_now + timedelta(days = 2) \n",
    "  \n",
    "# printing calculated future_dates \n",
    "print('future_date_after_2yrs:', str(future_date_after_2yrs)) \n",
    "print('future_date_after_2days:', str(future_date_after_2days)) "
   ]
  },
  {
   "cell_type": "code",
   "execution_count": null,
   "metadata": {},
   "outputs": [],
   "source": [
    "# Calculating past dates \n",
    "# for two years \n",
    "past_date_before_2yrs = ini_time_for_now - timedelta(days = 730) \n",
    "  \n",
    "# for two hours \n",
    "past_date_before_2hours = ini_time_for_now - timedelta(hours = 10) \n",
    "  \n",
    "  \n",
    "# printing calculated past_dates \n",
    "print('past_date_before_2yrs:', str(past_date_before_2yrs)) \n",
    "print('past_date_after_2days:', str(past_date_before_2hours)) "
   ]
  },
  {
   "cell_type": "code",
   "execution_count": null,
   "metadata": {},
   "outputs": [],
   "source": [
    "# Some another datetime \n",
    "new_final_datetime = ini_time_for_now + timedelta(days = 2) \n",
    "  \n",
    "# printing new final_date \n",
    "print (\"New final datetime\", str(new_final_datetime)) \n",
    "  \n",
    "  \n",
    "# printing the difference of two datetimes \n",
    "print('Time difference:', str(new_final_datetime - ini_time_for_now)) "
   ]
  },
  {
   "cell_type": "code",
   "execution_count": null,
   "metadata": {},
   "outputs": [],
   "source": [
    "#Other usage examples\n",
    "\n",
    "year = timedelta(days=365)\n",
    "print(year)\n",
    "\n",
    "another_year = timedelta(weeks=40, days=84, hours=23,\n",
    "                          minutes=50, seconds=600)  # adds up to 365 days\n",
    "print(another_year)\n",
    "\n",
    "#Check if year and another_year are the same"
   ]
  },
  {
   "cell_type": "code",
   "execution_count": null,
   "metadata": {},
   "outputs": [],
   "source": [
    "print(year.total_seconds())"
   ]
  },
  {
   "cell_type": "code",
   "execution_count": null,
   "metadata": {},
   "outputs": [],
   "source": [
    "ten_years = 10 * year\n",
    "print(ten_years)"
   ]
  },
  {
   "cell_type": "code",
   "execution_count": null,
   "metadata": {},
   "outputs": [],
   "source": [
    "three_years = 3*year\n",
    "abs(three_years - ten_years) == 2 * three_years + year"
   ]
  },
  {
   "cell_type": "code",
   "execution_count": null,
   "metadata": {},
   "outputs": [],
   "source": [
    "date.year\n",
    "date.month\n",
    "date.day\n",
    "\n",
    "y=date.today()\n",
    "y.day\n",
    "y.weekday() #Monday is 0 and Sunday is 6\n",
    "y.isoweekday() #Monday is 1 and Sunday is 7"
   ]
  },
  {
   "cell_type": "code",
   "execution_count": null,
   "metadata": {},
   "outputs": [],
   "source": [
    "datetime.today()"
   ]
  },
  {
   "cell_type": "code",
   "execution_count": null,
   "metadata": {},
   "outputs": [],
   "source": [
    "datetime.now()"
   ]
  },
  {
   "cell_type": "code",
   "execution_count": null,
   "metadata": {},
   "outputs": [],
   "source": [
    "#datetime.time([hour[, minute[, second[, microsecond[, tzinfo]]]]])\n",
    "z=datetime.now().time()\n",
    "print(z)\n",
    "z.minute"
   ]
  },
  {
   "cell_type": "code",
   "execution_count": null,
   "metadata": {},
   "outputs": [],
   "source": [
    "import numpy as np\n",
    "\n",
    "file='https://vincentarelbundock.github.io/Rdatasets/csv/boot/acme.csv'\n",
    "my_data = np.genfromtxt(file, dtype=float, delimiter=',', skip_header =1, usecols=[2,3])\n",
    "#print(my_data)\n",
    "\n",
    "my_dates = np.genfromtxt(file, dtype='str', delimiter=',', skip_header =1, usecols=[1])\n",
    "#print(my_dates)"
   ]
  }
 ],
 "metadata": {
  "kernelspec": {
   "display_name": "Python 3",
   "language": "python",
   "name": "python3"
  },
  "language_info": {
   "codemirror_mode": {
    "name": "ipython",
    "version": 3
   },
   "file_extension": ".py",
   "mimetype": "text/x-python",
   "name": "python",
   "nbconvert_exporter": "python",
   "pygments_lexer": "ipython3",
   "version": "3.7.4"
  }
 },
 "nbformat": 4,
 "nbformat_minor": 2
}
