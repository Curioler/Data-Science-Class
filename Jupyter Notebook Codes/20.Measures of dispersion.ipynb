{
 "cells": [
  {
   "cell_type": "code",
   "execution_count": null,
   "metadata": {},
   "outputs": [],
   "source": [
    "# Importing libraries\n",
    "import numpy as np\n",
    "from scipy import stats\n",
    "\n",
    "# X is a Python List\n",
    "X = [32.32, 56.98, 21.52, 44.32, 55.63, 13.75, 43.47, 43.34]"
   ]
  },
  {
   "cell_type": "code",
   "execution_count": null,
   "metadata": {},
   "outputs": [],
   "source": [
    "# Finding popular measures of central tendency\n",
    "mean = np.mean(X)\n",
    "median = np.median(X)\n",
    "mode = stats.mode(X)"
   ]
  },
  {
   "cell_type": "code",
   "execution_count": null,
   "metadata": {},
   "outputs": [],
   "source": [
    "# Printing the values\n",
    "print(\"Mean\", mean)\n",
    "print(\"Median\", median)\n",
    "print(\"Mode\", mode)"
   ]
  },
  {
   "cell_type": "code",
   "execution_count": null,
   "metadata": {},
   "outputs": [],
   "source": [
    "# Finding popular measures of dispersion\n",
    "range = np.max(X)-np.min(X)\n",
    "iqr = stats.iqr(X)\n",
    "qd = 1/2*(np.percentile(X,75) - np.percentile(X,25))\n",
    "sd = np.std(X)\n",
    "variance = np.var(X)"
   ]
  },
  {
   "cell_type": "code",
   "execution_count": null,
   "metadata": {
    "scrolled": true
   },
   "outputs": [],
   "source": [
    "# Printing the values\n",
    "print(\"Range\", range)\n",
    "print(\"Interquartile range\", iqr)\n",
    "print(\"Quartile deviation\", qd)\n",
    "print(\"Standard Deviation\", sd)\n",
    "print(\"Variance\", variance)"
   ]
  },
  {
   "cell_type": "markdown",
   "metadata": {},
   "source": [
    "########\n",
    "\n",
    "Exercise:\n",
    "- Calculate the below indicators as easily as possible.\n",
    "- Try to find functions, if no functions found, use combination of functions\n",
    "- If no help available calculate using numpy arrays and python in-built functions\n",
    "\n",
    "Calculate\n",
    "- geomrtric mean\n",
    "- harmonic mean\n",
    "- coefficient of range\n",
    "- coefficient of quartile deviation\n",
    "- mean absolute deviation\n",
    "- coefficient of mean deviation\n",
    "- meadian absolute deviation\n",
    "\n",
    "Get all the measures of central tendency and dispersion for x1 data of Anscombe's triangle "
   ]
  }
 ],
 "metadata": {
  "kernelspec": {
   "display_name": "Python 3",
   "language": "python",
   "name": "python3"
  },
  "language_info": {
   "codemirror_mode": {
    "name": "ipython",
    "version": 3
   },
   "file_extension": ".py",
   "mimetype": "text/x-python",
   "name": "python",
   "nbconvert_exporter": "python",
   "pygments_lexer": "ipython3",
   "version": "3.6.5"
  }
 },
 "nbformat": 4,
 "nbformat_minor": 2
}
