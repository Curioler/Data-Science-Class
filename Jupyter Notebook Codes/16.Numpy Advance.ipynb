{
 "cells": [
  {
   "cell_type": "code",
   "execution_count": null,
   "metadata": {},
   "outputs": [],
   "source": [
    "#locate the positions in the array where a given condition holds true\n",
    "\n",
    "# Create an array\n",
    "import numpy as np\n",
    "arr_rand = np.array([8, 8, 3, 7, 7, 0, 4, 2, 5, 2])\n",
    "print(\"Array: \", arr_rand)\n",
    "\n",
    "# Positions where value > 5\n",
    "index_gt5 = np.where(arr_rand > 5)\n",
    "print(\"Positions where value > 5: \", index_gt5)"
   ]
  },
  {
   "cell_type": "code",
   "execution_count": null,
   "metadata": {},
   "outputs": [],
   "source": [
    "#Check the data type of output of where function\n",
    "print(type(index_gt5))"
   ]
  },
  {
   "cell_type": "code",
   "execution_count": null,
   "metadata": {},
   "outputs": [],
   "source": [
    "# Take items at given index\n",
    "arr_rand.take(index_gt5)"
   ]
  },
  {
   "cell_type": "code",
   "execution_count": null,
   "metadata": {},
   "outputs": [],
   "source": [
    "# If value > 5, then yield 'gt5' else 'le5'\n",
    "out = np.where(arr_rand > 5, 'gt5', 'le5')"
   ]
  },
  {
   "cell_type": "code",
   "execution_count": null,
   "metadata": {},
   "outputs": [],
   "source": [
    "# Location of the max\n",
    "print('Position of max value: ', np.argmax(arr_rand))  \n",
    "\n",
    "# Location of the min\n",
    "print('Position of min value: ', np.argmin(arr_rand))  "
   ]
  },
  {
   "cell_type": "code",
   "execution_count": null,
   "metadata": {},
   "outputs": [],
   "source": [
    "#Reading a csv file for numerical data\n",
    "\n",
    "# Turn off scientific notation\n",
    "np.set_printoptions(suppress=True)  \n",
    "\n",
    "# Import data from csv file url\n",
    "path = 'https://raw.githubusercontent.com/selva86/datasets/master/Auto.csv'\n",
    "data = np.genfromtxt(path, delimiter=',', skip_header=1, filling_values=-999, dtype='float') #Check out np.loadtext on your own\n",
    "data[:3]  # see first 3 rows"
   ]
  },
  {
   "cell_type": "code",
   "execution_count": null,
   "metadata": {},
   "outputs": [],
   "source": [
    "#Reading a csv file for mixed data\n",
    "\n",
    "# data2 = np.genfromtxt(path, delimiter=',', skip_header=1, dtype='object')\n",
    "data2 = np.genfromtxt(path, delimiter=',', skip_header=1, dtype=None)\n",
    "\n",
    "\n",
    "\"\"\"\n",
    "Explanation of b\n",
    "https://stackoverflow.com/questions/33655641/b-character-added-when-using-numpy-loadtxt\n",
    "\"\"\"\n",
    "data2[:3]  # see first 3 rows"
   ]
  },
  {
   "cell_type": "code",
   "execution_count": null,
   "metadata": {},
   "outputs": [],
   "source": [
    "# Save the array as a csv file\n",
    "np.savetxt(\"out.csv\", data, delimiter=\",\")"
   ]
  },
  {
   "cell_type": "code",
   "execution_count": null,
   "metadata": {},
   "outputs": [],
   "source": [
    "#Saving the arrays\n",
    "\n",
    "list2 = [[0,1,2], [3,4,5], [6,7,8]]\n",
    "arr2d = np.array(list2)\n",
    "\n",
    "arr2d_f = np.array(list2, dtype='float')\n",
    "\n",
    "arr2d_b = np.array([1, 0, 10], dtype='bool')\n",
    "\n",
    "# Save single numpy array object as .npy file\n",
    "np.save('myarray.npy', arr2d)  \n",
    "\n",
    "# Save multile numy arrays as a .npz file\n",
    "np.savez('array.npz', arr2d_f, arr2d_b)"
   ]
  },
  {
   "cell_type": "code",
   "execution_count": null,
   "metadata": {},
   "outputs": [],
   "source": [
    "# Load a .npy file\n",
    "\n",
    "a = np.load('myarray.npy')\n",
    "print(a)"
   ]
  },
  {
   "cell_type": "code",
   "execution_count": null,
   "metadata": {},
   "outputs": [],
   "source": [
    "# Load a .npz file\n",
    "b = np.load('array.npz')\n",
    "print(b.files)\n",
    "b['arr_0']"
   ]
  },
  {
   "cell_type": "code",
   "execution_count": null,
   "metadata": {},
   "outputs": [],
   "source": [
    "#Concatenating numpy arrays\n",
    "\n",
    "a = np.zeros([4, 4])\n",
    "b = np.ones([4, 4])\n",
    "print(a)\n",
    "print(b)"
   ]
  },
  {
   "cell_type": "code",
   "execution_count": null,
   "metadata": {},
   "outputs": [],
   "source": [
    "# Vertical Stack Equivalents (Row wise)\n",
    "np.concatenate([a, b], axis=0)  \n",
    "np.vstack([a,b])  \n",
    "np.r_[a,b]"
   ]
  },
  {
   "cell_type": "code",
   "execution_count": null,
   "metadata": {},
   "outputs": [],
   "source": [
    "# Horizontal Stack Equivalents (Coliumn wise)\n",
    "np.concatenate([a, b], axis=1) \n",
    "np.hstack([a,b])  \n",
    "np.c_[a,b]"
   ]
  },
  {
   "cell_type": "code",
   "execution_count": null,
   "metadata": {},
   "outputs": [],
   "source": [
    "arr = np.random.randint(1,6, size=[8, 4])\n",
    "\n",
    "# Sort each columns of arr\n",
    "np.sort(arr, axis=0)"
   ]
  },
  {
   "cell_type": "code",
   "execution_count": null,
   "metadata": {},
   "outputs": [],
   "source": [
    "# Get the index positions that would sort the array\n",
    "x = np.array([1, 10, 5, 2, 8, 9])\n",
    "sort_index = np.argsort(x)\n",
    "print(sort_index)\n",
    "x[sort_index]"
   ]
  },
  {
   "cell_type": "code",
   "execution_count": null,
   "metadata": {},
   "outputs": [],
   "source": [
    "# Argsort the first column\n",
    "sorted_index_1stcol = arr[:, 0].argsort()\n",
    "\n",
    "# Sort 'arr' by first column without disturbing the integrity of rows\n",
    "arr[sorted_index_1stcol]"
   ]
  },
  {
   "cell_type": "code",
   "execution_count": null,
   "metadata": {},
   "outputs": [],
   "source": [
    "#To sort it in decreasing order, simply reverse the argsorted index.\n",
    "\n",
    "# Descending sort\n",
    "arr[sorted_index_1stcol[::-1]]"
   ]
  },
  {
   "cell_type": "code",
   "execution_count": null,
   "metadata": {},
   "outputs": [],
   "source": [
    "#sorting by multiple indexes\n",
    "lexsorted_index = np.lexsort((arr[:, 1], arr[:, 0])) \n",
    "arr[lexsorted_index]"
   ]
  }
 ],
 "metadata": {
  "kernelspec": {
   "display_name": "Python 3",
   "language": "python",
   "name": "python3"
  },
  "language_info": {
   "codemirror_mode": {
    "name": "ipython",
    "version": 3
   },
   "file_extension": ".py",
   "mimetype": "text/x-python",
   "name": "python",
   "nbconvert_exporter": "python",
   "pygments_lexer": "ipython3",
   "version": "3.7.4"
  }
 },
 "nbformat": 4,
 "nbformat_minor": 2
}
